{
 "cells": [
  {
   "cell_type": "markdown",
   "metadata": {},
   "source": [
    "# EDA on Udemy Courses"
   ]
  },
  {
   "cell_type": "markdown",
   "metadata": {},
   "source": [
    "Importing required libraries"
   ]
  },
  {
   "cell_type": "code",
   "execution_count": 1,
   "metadata": {},
   "outputs": [],
   "source": [
    "import numpy as np\n",
    "import pandas as pd\n",
    "import matplotlib.pyplot as plt\n",
    "import seaborn as sns"
   ]
  },
  {
   "cell_type": "markdown",
   "metadata": {},
   "source": [
    "This Dataset contains Udemy courses for all subjects. It has 12 Columns and 3683 Rows."
   ]
  },
  {
   "cell_type": "code",
   "execution_count": 2,
   "metadata": {
    "scrolled": true
   },
   "outputs": [
    {
     "data": {
      "text/html": [
       "<div>\n",
       "<style scoped>\n",
       "    .dataframe tbody tr th:only-of-type {\n",
       "        vertical-align: middle;\n",
       "    }\n",
       "\n",
       "    .dataframe tbody tr th {\n",
       "        vertical-align: top;\n",
       "    }\n",
       "\n",
       "    .dataframe thead th {\n",
       "        text-align: right;\n",
       "    }\n",
       "</style>\n",
       "<table border=\"1\" class=\"dataframe\">\n",
       "  <thead>\n",
       "    <tr style=\"text-align: right;\">\n",
       "      <th></th>\n",
       "      <th>course_id</th>\n",
       "      <th>course_title</th>\n",
       "      <th>url</th>\n",
       "      <th>is_paid</th>\n",
       "      <th>price</th>\n",
       "      <th>num_subscribers</th>\n",
       "      <th>num_reviews</th>\n",
       "      <th>num_lectures</th>\n",
       "      <th>level</th>\n",
       "      <th>content_duration</th>\n",
       "      <th>published_timestamp</th>\n",
       "      <th>subject</th>\n",
       "    </tr>\n",
       "  </thead>\n",
       "  <tbody>\n",
       "    <tr>\n",
       "      <td>0</td>\n",
       "      <td>1070968</td>\n",
       "      <td>Ultimate Investment Banking Course</td>\n",
       "      <td>https://www.udemy.com/ultimate-investment-bank...</td>\n",
       "      <td>True</td>\n",
       "      <td>200</td>\n",
       "      <td>2147</td>\n",
       "      <td>23</td>\n",
       "      <td>51</td>\n",
       "      <td>All Levels</td>\n",
       "      <td>1.5 hours</td>\n",
       "      <td>2017-01-18T20:58:58Z</td>\n",
       "      <td>Business Finance</td>\n",
       "    </tr>\n",
       "    <tr>\n",
       "      <td>1</td>\n",
       "      <td>1113822</td>\n",
       "      <td>Complete GST Course &amp; Certification - Grow You...</td>\n",
       "      <td>https://www.udemy.com/goods-and-services-tax/</td>\n",
       "      <td>True</td>\n",
       "      <td>75</td>\n",
       "      <td>2792</td>\n",
       "      <td>923</td>\n",
       "      <td>274</td>\n",
       "      <td>All Levels</td>\n",
       "      <td>39 hours</td>\n",
       "      <td>2017-03-09T16:34:20Z</td>\n",
       "      <td>Business Finance</td>\n",
       "    </tr>\n",
       "    <tr>\n",
       "      <td>2</td>\n",
       "      <td>1006314</td>\n",
       "      <td>Financial Modeling for Business Analysts and C...</td>\n",
       "      <td>https://www.udemy.com/financial-modeling-for-b...</td>\n",
       "      <td>True</td>\n",
       "      <td>45</td>\n",
       "      <td>2174</td>\n",
       "      <td>74</td>\n",
       "      <td>51</td>\n",
       "      <td>Intermediate Level</td>\n",
       "      <td>2.5 hours</td>\n",
       "      <td>2016-12-19T19:26:30Z</td>\n",
       "      <td>Business Finance</td>\n",
       "    </tr>\n",
       "    <tr>\n",
       "      <td>3</td>\n",
       "      <td>1210588</td>\n",
       "      <td>Beginner to Pro - Financial Analysis in Excel ...</td>\n",
       "      <td>https://www.udemy.com/complete-excel-finance-c...</td>\n",
       "      <td>True</td>\n",
       "      <td>95</td>\n",
       "      <td>2451</td>\n",
       "      <td>11</td>\n",
       "      <td>36</td>\n",
       "      <td>All Levels</td>\n",
       "      <td>3 hours</td>\n",
       "      <td>2017-05-30T20:07:24Z</td>\n",
       "      <td>Business Finance</td>\n",
       "    </tr>\n",
       "    <tr>\n",
       "      <td>4</td>\n",
       "      <td>1011058</td>\n",
       "      <td>How To Maximize Your Profits Trading Options</td>\n",
       "      <td>https://www.udemy.com/how-to-maximize-your-pro...</td>\n",
       "      <td>True</td>\n",
       "      <td>200</td>\n",
       "      <td>1276</td>\n",
       "      <td>45</td>\n",
       "      <td>26</td>\n",
       "      <td>Intermediate Level</td>\n",
       "      <td>2 hours</td>\n",
       "      <td>2016-12-13T14:57:18Z</td>\n",
       "      <td>Business Finance</td>\n",
       "    </tr>\n",
       "  </tbody>\n",
       "</table>\n",
       "</div>"
      ],
      "text/plain": [
       "   course_id                                       course_title  \\\n",
       "0    1070968                 Ultimate Investment Banking Course   \n",
       "1    1113822  Complete GST Course & Certification - Grow You...   \n",
       "2    1006314  Financial Modeling for Business Analysts and C...   \n",
       "3    1210588  Beginner to Pro - Financial Analysis in Excel ...   \n",
       "4    1011058       How To Maximize Your Profits Trading Options   \n",
       "\n",
       "                                                 url is_paid price  \\\n",
       "0  https://www.udemy.com/ultimate-investment-bank...    True   200   \n",
       "1      https://www.udemy.com/goods-and-services-tax/    True    75   \n",
       "2  https://www.udemy.com/financial-modeling-for-b...    True    45   \n",
       "3  https://www.udemy.com/complete-excel-finance-c...    True    95   \n",
       "4  https://www.udemy.com/how-to-maximize-your-pro...    True   200   \n",
       "\n",
       "   num_subscribers  num_reviews  num_lectures               level  \\\n",
       "0             2147           23            51          All Levels   \n",
       "1             2792          923           274          All Levels   \n",
       "2             2174           74            51  Intermediate Level   \n",
       "3             2451           11            36          All Levels   \n",
       "4             1276           45            26  Intermediate Level   \n",
       "\n",
       "  content_duration   published_timestamp           subject  \n",
       "0        1.5 hours  2017-01-18T20:58:58Z  Business Finance  \n",
       "1         39 hours  2017-03-09T16:34:20Z  Business Finance  \n",
       "2        2.5 hours  2016-12-19T19:26:30Z  Business Finance  \n",
       "3          3 hours  2017-05-30T20:07:24Z  Business Finance  \n",
       "4          2 hours  2016-12-13T14:57:18Z  Business Finance  "
      ]
     },
     "execution_count": 2,
     "metadata": {},
     "output_type": "execute_result"
    }
   ],
   "source": [
    "df=pd.read_csv(\"C:\\\\Users\\\\abc\\\\Downloads\\\\Pandas Datasets\\\\udemy-courses\\\\udemy_courses.csv\")\n",
    "df.head()"
   ]
  },
  {
   "cell_type": "markdown",
   "metadata": {},
   "source": [
    "This show the type of data of every columns"
   ]
  },
  {
   "cell_type": "code",
   "execution_count": 3,
   "metadata": {},
   "outputs": [
    {
     "name": "stdout",
     "output_type": "stream",
     "text": [
      "<class 'pandas.core.frame.DataFrame'>\n",
      "RangeIndex: 3683 entries, 0 to 3682\n",
      "Data columns (total 12 columns):\n",
      "course_id              3683 non-null int64\n",
      "course_title           3683 non-null object\n",
      "url                    3683 non-null object\n",
      "is_paid                3683 non-null object\n",
      "price                  3683 non-null object\n",
      "num_subscribers        3683 non-null int64\n",
      "num_reviews            3683 non-null int64\n",
      "num_lectures           3683 non-null int64\n",
      "level                  3683 non-null object\n",
      "content_duration       3683 non-null object\n",
      "published_timestamp    3683 non-null object\n",
      "subject                3683 non-null object\n",
      "dtypes: int64(4), object(8)\n",
      "memory usage: 345.4+ KB\n"
     ]
    }
   ],
   "source": [
    "df.info()"
   ]
  },
  {
   "cell_type": "markdown",
   "metadata": {},
   "source": [
    "Below is the information on number of unique overvation of every columns"
   ]
  },
  {
   "cell_type": "code",
   "execution_count": 4,
   "metadata": {},
   "outputs": [
    {
     "data": {
      "text/plain": [
       "course_id              3677\n",
       "course_title           3668\n",
       "url                    3677\n",
       "is_paid                   5\n",
       "price                    39\n",
       "num_subscribers        2198\n",
       "num_reviews             511\n",
       "num_lectures            229\n",
       "level                     5\n",
       "content_duration        110\n",
       "published_timestamp    3677\n",
       "subject                   4\n",
       "dtype: int64"
      ]
     },
     "execution_count": 4,
     "metadata": {},
     "output_type": "execute_result"
    }
   ],
   "source": [
    "df.nunique()"
   ]
  },
  {
   "cell_type": "markdown",
   "metadata": {},
   "source": [
    "Below information show how many null values are present in the columns."
   ]
  },
  {
   "cell_type": "code",
   "execution_count": 5,
   "metadata": {},
   "outputs": [
    {
     "data": {
      "text/plain": [
       "course_id              0\n",
       "course_title           0\n",
       "url                    0\n",
       "is_paid                0\n",
       "price                  0\n",
       "num_subscribers        0\n",
       "num_reviews            0\n",
       "num_lectures           0\n",
       "level                  0\n",
       "content_duration       0\n",
       "published_timestamp    0\n",
       "subject                0\n",
       "dtype: int64"
      ]
     },
     "execution_count": 5,
     "metadata": {},
     "output_type": "execute_result"
    }
   ],
   "source": [
    "df.isnull().sum()"
   ]
  },
  {
   "cell_type": "markdown",
   "metadata": {},
   "source": [
    "Checking unique observations in \"is_paid\" columns."
   ]
  },
  {
   "cell_type": "code",
   "execution_count": 6,
   "metadata": {},
   "outputs": [
    {
     "name": "stdout",
     "output_type": "stream",
     "text": [
      "Number of nunique observation in 'is_paid' column are  5 .\n",
      "['True' 'False' 'FALSE' 'TRUE'\n",
      " 'https://www.udemy.com/learnguitartoworship/']\n"
     ]
    }
   ],
   "source": [
    "print(\"Number of nunique observation in 'is_paid' column are \",df['is_paid'].nunique(),'.')\n",
    "print(df['is_paid'].unique())"
   ]
  },
  {
   "cell_type": "markdown",
   "metadata": {},
   "source": [
    "Converting the obsevation to lower case. so that I can change the information in binary type."
   ]
  },
  {
   "cell_type": "code",
   "execution_count": 7,
   "metadata": {},
   "outputs": [],
   "source": [
    "df['is_paid']=df['is_paid'].map(lambda x: x.lower())"
   ]
  },
  {
   "cell_type": "code",
   "execution_count": 8,
   "metadata": {},
   "outputs": [],
   "source": [
    "df['is_paid']=df['is_paid'].replace({\"true\":1,\"false\":0})"
   ]
  },
  {
   "cell_type": "markdown",
   "metadata": {},
   "source": [
    "Now I will check and correct the obsevation (\"https://www.udemy.com/learnguitartoworship/\") of \"is_paid\" column."
   ]
  },
  {
   "cell_type": "code",
   "execution_count": 9,
   "metadata": {},
   "outputs": [
    {
     "data": {
      "text/html": [
       "<div>\n",
       "<style scoped>\n",
       "    .dataframe tbody tr th:only-of-type {\n",
       "        vertical-align: middle;\n",
       "    }\n",
       "\n",
       "    .dataframe tbody tr th {\n",
       "        vertical-align: top;\n",
       "    }\n",
       "\n",
       "    .dataframe thead th {\n",
       "        text-align: right;\n",
       "    }\n",
       "</style>\n",
       "<table border=\"1\" class=\"dataframe\">\n",
       "  <thead>\n",
       "    <tr style=\"text-align: right;\">\n",
       "      <th></th>\n",
       "      <th>course_id</th>\n",
       "      <th>course_title</th>\n",
       "      <th>url</th>\n",
       "      <th>is_paid</th>\n",
       "      <th>price</th>\n",
       "      <th>num_subscribers</th>\n",
       "      <th>num_reviews</th>\n",
       "      <th>num_lectures</th>\n",
       "      <th>level</th>\n",
       "      <th>content_duration</th>\n",
       "      <th>published_timestamp</th>\n",
       "      <th>subject</th>\n",
       "    </tr>\n",
       "  </thead>\n",
       "  <tbody>\n",
       "    <tr>\n",
       "      <td>2066</td>\n",
       "      <td>96698</td>\n",
       "      <td>Learn Classical Guitar Technique and play 'Spa...</td>\n",
       "      <td>000!\"</td>\n",
       "      <td>https://www.udemy.com/learnguitartoworship/</td>\n",
       "      <td>TRUE</td>\n",
       "      <td>30</td>\n",
       "      <td>1463</td>\n",
       "      <td>29</td>\n",
       "      <td>52</td>\n",
       "      <td>Beginner Level</td>\n",
       "      <td>3 hours</td>\n",
       "      <td>Musical Instruments</td>\n",
       "    </tr>\n",
       "  </tbody>\n",
       "</table>\n",
       "</div>"
      ],
      "text/plain": [
       "      course_id                                       course_title    url  \\\n",
       "2066      96698  Learn Classical Guitar Technique and play 'Spa...  000!\"   \n",
       "\n",
       "                                          is_paid price  num_subscribers  \\\n",
       "2066  https://www.udemy.com/learnguitartoworship/  TRUE               30   \n",
       "\n",
       "      num_reviews  num_lectures level content_duration published_timestamp  \\\n",
       "2066         1463            29    52   Beginner Level             3 hours   \n",
       "\n",
       "                  subject  \n",
       "2066  Musical Instruments  "
      ]
     },
     "execution_count": 9,
     "metadata": {},
     "output_type": "execute_result"
    }
   ],
   "source": [
    "df[df['is_paid']=='https://www.udemy.com/learnguitartoworship/']"
   ]
  },
  {
   "cell_type": "markdown",
   "metadata": {},
   "source": [
    "Here is problem is the data is filled under wrong columns. For example \"url\" data is updated under \"is_paid\" column. So I will correct this row."
   ]
  },
  {
   "cell_type": "code",
   "execution_count": 10,
   "metadata": {},
   "outputs": [
    {
     "data": {
      "text/plain": [
       "url                                                          000!\"\n",
       "is_paid                https://www.udemy.com/learnguitartoworship/\n",
       "price                                                         TRUE\n",
       "num_subscribers                                                 30\n",
       "num_reviews                                                   1463\n",
       "num_lectures                                                    29\n",
       "level                                                           52\n",
       "content_duration                                    Beginner Level\n",
       "published_timestamp                                        3 hours\n",
       "subject                                        Musical Instruments\n",
       "Name: 2066, dtype: object"
      ]
     },
     "execution_count": 10,
     "metadata": {},
     "output_type": "execute_result"
    }
   ],
   "source": [
    "df.iloc[2066][2:]"
   ]
  },
  {
   "cell_type": "code",
   "execution_count": 11,
   "metadata": {},
   "outputs": [],
   "source": [
    "for i in range(2,11):\n",
    "    df.iloc[2066,i]=df.iloc[2066,i+1]"
   ]
  },
  {
   "cell_type": "code",
   "execution_count": 21,
   "metadata": {},
   "outputs": [],
   "source": [
    "#df['is_paid']=df['is_paid'].replace({\"TRUE\":1},inplace=True)"
   ]
  },
  {
   "cell_type": "code",
   "execution_count": 23,
   "metadata": {},
   "outputs": [
    {
     "data": {
      "text/plain": [
       "array([1, 0], dtype=int64)"
      ]
     },
     "execution_count": 23,
     "metadata": {},
     "output_type": "execute_result"
    }
   ],
   "source": [
    "df['is_paid'].unique()"
   ]
  },
  {
   "cell_type": "markdown",
   "metadata": {},
   "source": [
    "Now I converted \"is_paid\" column to binary but the data in 'published_timestamp' column got incorrectly updated as shown below. Hence converted that to Nan value."
   ]
  },
  {
   "cell_type": "code",
   "execution_count": 33,
   "metadata": {},
   "outputs": [
    {
     "data": {
      "text/plain": [
       "course_id                                                          96698\n",
       "course_title           Learn Classical Guitar Technique and play 'Spa...\n",
       "url                          https://www.udemy.com/learnguitartoworship/\n",
       "is_paid                                                                1\n",
       "price                                                                 30\n",
       "num_subscribers                                                     1463\n",
       "num_reviews                                                           29\n",
       "num_lectures                                                          52\n",
       "level                                                     Beginner Level\n",
       "content_duration                                                 3 hours\n",
       "published_timestamp                                  Musical Instruments\n",
       "subject                                              Musical Instruments\n",
       "Name: 2066, dtype: object"
      ]
     },
     "execution_count": 33,
     "metadata": {},
     "output_type": "execute_result"
    }
   ],
   "source": [
    "df.iloc[2066]"
   ]
  },
  {
   "cell_type": "code",
   "execution_count": 38,
   "metadata": {},
   "outputs": [
    {
     "name": "stderr",
     "output_type": "stream",
     "text": [
      "C:\\Users\\abc\\Anaconda3\\lib\\site-packages\\pandas\\core\\indexing.py:205: SettingWithCopyWarning: \n",
      "A value is trying to be set on a copy of a slice from a DataFrame\n",
      "\n",
      "See the caveats in the documentation: http://pandas.pydata.org/pandas-docs/stable/user_guide/indexing.html#returning-a-view-versus-a-copy\n",
      "  self._setitem_with_indexer(indexer, value)\n"
     ]
    }
   ],
   "source": [
    "df['published_timestamp'].iloc[2066]=np.NaN"
   ]
  },
  {
   "cell_type": "code",
   "execution_count": 39,
   "metadata": {},
   "outputs": [
    {
     "data": {
      "text/plain": [
       "nan"
      ]
     },
     "execution_count": 39,
     "metadata": {},
     "output_type": "execute_result"
    }
   ],
   "source": [
    "df['published_timestamp'].iloc[2066]"
   ]
  },
  {
   "cell_type": "markdown",
   "metadata": {},
   "source": [
    "Converted the data type of \"published_timestamp\" column to Pandas Date format as below."
   ]
  },
  {
   "cell_type": "code",
   "execution_count": 40,
   "metadata": {},
   "outputs": [],
   "source": [
    "df['published_timestamp']=pd.to_datetime(df['published_timestamp'])"
   ]
  },
  {
   "cell_type": "code",
   "execution_count": 41,
   "metadata": {},
   "outputs": [
    {
     "name": "stdout",
     "output_type": "stream",
     "text": [
      "<class 'pandas.core.frame.DataFrame'>\n",
      "RangeIndex: 3683 entries, 0 to 3682\n",
      "Data columns (total 12 columns):\n",
      "course_id              3683 non-null int64\n",
      "course_title           3683 non-null object\n",
      "url                    3683 non-null object\n",
      "is_paid                3683 non-null int64\n",
      "price                  3683 non-null object\n",
      "num_subscribers        3683 non-null int64\n",
      "num_reviews            3683 non-null int64\n",
      "num_lectures           3683 non-null object\n",
      "level                  3683 non-null object\n",
      "content_duration       3683 non-null object\n",
      "published_timestamp    3682 non-null datetime64[ns, UTC]\n",
      "subject                3683 non-null object\n",
      "dtypes: datetime64[ns, UTC](1), int64(4), object(7)\n",
      "memory usage: 345.4+ KB\n"
     ]
    }
   ],
   "source": [
    "df.info()"
   ]
  },
  {
   "cell_type": "code",
   "execution_count": 43,
   "metadata": {},
   "outputs": [],
   "source": [
    "df['published_timestamp']=df['published_timestamp'].dt.date"
   ]
  },
  {
   "cell_type": "code",
   "execution_count": 44,
   "metadata": {
    "scrolled": true
   },
   "outputs": [
    {
     "data": {
      "text/plain": [
       "0       2017-01-18\n",
       "1       2017-03-09\n",
       "2       2016-12-19\n",
       "3       2017-05-30\n",
       "4       2016-12-13\n",
       "           ...    \n",
       "3678    2016-06-14\n",
       "3679    2017-03-10\n",
       "3680    2015-12-30\n",
       "3681    2016-08-11\n",
       "3682    2014-09-28\n",
       "Name: published_timestamp, Length: 3683, dtype: object"
      ]
     },
     "execution_count": 44,
     "metadata": {},
     "output_type": "execute_result"
    }
   ],
   "source": [
    "df['published_timestamp']"
   ]
  },
  {
   "cell_type": "code",
   "execution_count": 45,
   "metadata": {},
   "outputs": [
    {
     "data": {
      "text/html": [
       "<div>\n",
       "<style scoped>\n",
       "    .dataframe tbody tr th:only-of-type {\n",
       "        vertical-align: middle;\n",
       "    }\n",
       "\n",
       "    .dataframe tbody tr th {\n",
       "        vertical-align: top;\n",
       "    }\n",
       "\n",
       "    .dataframe thead th {\n",
       "        text-align: right;\n",
       "    }\n",
       "</style>\n",
       "<table border=\"1\" class=\"dataframe\">\n",
       "  <thead>\n",
       "    <tr style=\"text-align: right;\">\n",
       "      <th></th>\n",
       "      <th>course_id</th>\n",
       "      <th>course_title</th>\n",
       "      <th>url</th>\n",
       "      <th>is_paid</th>\n",
       "      <th>price</th>\n",
       "      <th>num_subscribers</th>\n",
       "      <th>num_reviews</th>\n",
       "      <th>num_lectures</th>\n",
       "      <th>level</th>\n",
       "      <th>content_duration</th>\n",
       "      <th>published_timestamp</th>\n",
       "      <th>subject</th>\n",
       "    </tr>\n",
       "  </thead>\n",
       "  <tbody>\n",
       "    <tr>\n",
       "      <td>0</td>\n",
       "      <td>1070968</td>\n",
       "      <td>Ultimate Investment Banking Course</td>\n",
       "      <td>https://www.udemy.com/ultimate-investment-bank...</td>\n",
       "      <td>1</td>\n",
       "      <td>200</td>\n",
       "      <td>2147</td>\n",
       "      <td>23</td>\n",
       "      <td>51</td>\n",
       "      <td>All Levels</td>\n",
       "      <td>1.5 hours</td>\n",
       "      <td>2017-01-18</td>\n",
       "      <td>Business Finance</td>\n",
       "    </tr>\n",
       "    <tr>\n",
       "      <td>1</td>\n",
       "      <td>1113822</td>\n",
       "      <td>Complete GST Course &amp; Certification - Grow You...</td>\n",
       "      <td>https://www.udemy.com/goods-and-services-tax/</td>\n",
       "      <td>1</td>\n",
       "      <td>75</td>\n",
       "      <td>2792</td>\n",
       "      <td>923</td>\n",
       "      <td>274</td>\n",
       "      <td>All Levels</td>\n",
       "      <td>39 hours</td>\n",
       "      <td>2017-03-09</td>\n",
       "      <td>Business Finance</td>\n",
       "    </tr>\n",
       "    <tr>\n",
       "      <td>2</td>\n",
       "      <td>1006314</td>\n",
       "      <td>Financial Modeling for Business Analysts and C...</td>\n",
       "      <td>https://www.udemy.com/financial-modeling-for-b...</td>\n",
       "      <td>1</td>\n",
       "      <td>45</td>\n",
       "      <td>2174</td>\n",
       "      <td>74</td>\n",
       "      <td>51</td>\n",
       "      <td>Intermediate Level</td>\n",
       "      <td>2.5 hours</td>\n",
       "      <td>2016-12-19</td>\n",
       "      <td>Business Finance</td>\n",
       "    </tr>\n",
       "    <tr>\n",
       "      <td>3</td>\n",
       "      <td>1210588</td>\n",
       "      <td>Beginner to Pro - Financial Analysis in Excel ...</td>\n",
       "      <td>https://www.udemy.com/complete-excel-finance-c...</td>\n",
       "      <td>1</td>\n",
       "      <td>95</td>\n",
       "      <td>2451</td>\n",
       "      <td>11</td>\n",
       "      <td>36</td>\n",
       "      <td>All Levels</td>\n",
       "      <td>3 hours</td>\n",
       "      <td>2017-05-30</td>\n",
       "      <td>Business Finance</td>\n",
       "    </tr>\n",
       "    <tr>\n",
       "      <td>4</td>\n",
       "      <td>1011058</td>\n",
       "      <td>How To Maximize Your Profits Trading Options</td>\n",
       "      <td>https://www.udemy.com/how-to-maximize-your-pro...</td>\n",
       "      <td>1</td>\n",
       "      <td>200</td>\n",
       "      <td>1276</td>\n",
       "      <td>45</td>\n",
       "      <td>26</td>\n",
       "      <td>Intermediate Level</td>\n",
       "      <td>2 hours</td>\n",
       "      <td>2016-12-13</td>\n",
       "      <td>Business Finance</td>\n",
       "    </tr>\n",
       "  </tbody>\n",
       "</table>\n",
       "</div>"
      ],
      "text/plain": [
       "   course_id                                       course_title  \\\n",
       "0    1070968                 Ultimate Investment Banking Course   \n",
       "1    1113822  Complete GST Course & Certification - Grow You...   \n",
       "2    1006314  Financial Modeling for Business Analysts and C...   \n",
       "3    1210588  Beginner to Pro - Financial Analysis in Excel ...   \n",
       "4    1011058       How To Maximize Your Profits Trading Options   \n",
       "\n",
       "                                                 url  is_paid price  \\\n",
       "0  https://www.udemy.com/ultimate-investment-bank...        1   200   \n",
       "1      https://www.udemy.com/goods-and-services-tax/        1    75   \n",
       "2  https://www.udemy.com/financial-modeling-for-b...        1    45   \n",
       "3  https://www.udemy.com/complete-excel-finance-c...        1    95   \n",
       "4  https://www.udemy.com/how-to-maximize-your-pro...        1   200   \n",
       "\n",
       "   num_subscribers  num_reviews num_lectures               level  \\\n",
       "0             2147           23           51          All Levels   \n",
       "1             2792          923          274          All Levels   \n",
       "2             2174           74           51  Intermediate Level   \n",
       "3             2451           11           36          All Levels   \n",
       "4             1276           45           26  Intermediate Level   \n",
       "\n",
       "  content_duration published_timestamp           subject  \n",
       "0        1.5 hours          2017-01-18  Business Finance  \n",
       "1         39 hours          2017-03-09  Business Finance  \n",
       "2        2.5 hours          2016-12-19  Business Finance  \n",
       "3          3 hours          2017-05-30  Business Finance  \n",
       "4          2 hours          2016-12-13  Business Finance  "
      ]
     },
     "execution_count": 45,
     "metadata": {},
     "output_type": "execute_result"
    }
   ],
   "source": [
    "df.head()"
   ]
  },
  {
   "cell_type": "markdown",
   "metadata": {},
   "source": [
    "Pie chart of Paid v/s Free Courses:"
   ]
  },
  {
   "cell_type": "code",
   "execution_count": 63,
   "metadata": {},
   "outputs": [
    {
     "data": {
      "text/plain": [
       "1    3373\n",
       "0     310\n",
       "Name: is_paid, dtype: int64"
      ]
     },
     "execution_count": 63,
     "metadata": {},
     "output_type": "execute_result"
    }
   ],
   "source": [
    "df['is_paid'].value_counts()"
   ]
  },
  {
   "cell_type": "code",
   "execution_count": 62,
   "metadata": {},
   "outputs": [
    {
     "data": {
      "image/png": "[encoded data removed]",
      "text/plain": [
       "<Figure size 432x288 with 1 Axes>"
      ]
     },
     "metadata": {},
     "output_type": "display_data"
    }
   ],
   "source": [
    "df['is_paid'].value_counts().plot(kind='pie', autopct='%1.2f%%', labels=(\"Paid\",\"Free\"))\n",
    "plt.title(\"Paid v/s Free Courses\")\n",
    "plt.show()"
   ]
  },
  {
   "cell_type": "markdown",
   "metadata": {},
   "source": [
    "As the data type of \"price\" column was in str, changed it to int.\n",
    "Also the price of free courses were updated as \"Free\". So changed that to zero."
   ]
  },
  {
   "cell_type": "code",
   "execution_count": 69,
   "metadata": {},
   "outputs": [],
   "source": [
    "df['price']=df['price'].replace({\"Free\":0})"
   ]
  },
  {
   "cell_type": "code",
   "execution_count": 95,
   "metadata": {},
   "outputs": [],
   "source": [
    "#df.drop('Type of Price', inplace=True, axis=1)"
   ]
  },
  {
   "cell_type": "code",
   "execution_count": 96,
   "metadata": {},
   "outputs": [
    {
     "name": "stdout",
     "output_type": "stream",
     "text": [
      "<class 'pandas.core.frame.DataFrame'>\n",
      "RangeIndex: 3683 entries, 0 to 3682\n",
      "Data columns (total 12 columns):\n",
      "course_id              3683 non-null int64\n",
      "course_title           3683 non-null object\n",
      "url                    3683 non-null object\n",
      "is_paid                3683 non-null int64\n",
      "price                  3683 non-null int64\n",
      "num_subscribers        3683 non-null int64\n",
      "num_reviews            3683 non-null int64\n",
      "num_lectures           3683 non-null object\n",
      "level                  3683 non-null object\n",
      "content_duration       3683 non-null object\n",
      "published_timestamp    3682 non-null object\n",
      "subject                3683 non-null object\n",
      "dtypes: int64(5), object(7)\n",
      "memory usage: 345.4+ KB\n"
     ]
    }
   ],
   "source": [
    "df.info()"
   ]
  },
  {
   "cell_type": "markdown",
   "metadata": {},
   "source": [
    "Course with the highest price:"
   ]
  },
  {
   "cell_type": "code",
   "execution_count": 115,
   "metadata": {},
   "outputs": [
    {
     "data": {
      "text/html": [
       "<div>\n",
       "<style scoped>\n",
       "    .dataframe tbody tr th:only-of-type {\n",
       "        vertical-align: middle;\n",
       "    }\n",
       "\n",
       "    .dataframe tbody tr th {\n",
       "        vertical-align: top;\n",
       "    }\n",
       "\n",
       "    .dataframe thead th {\n",
       "        text-align: right;\n",
       "    }\n",
       "</style>\n",
       "<table border=\"1\" class=\"dataframe\">\n",
       "  <thead>\n",
       "    <tr style=\"text-align: right;\">\n",
       "      <th></th>\n",
       "      <th>course_id</th>\n",
       "      <th>course_title</th>\n",
       "      <th>url</th>\n",
       "      <th>is_paid</th>\n",
       "      <th>price</th>\n",
       "      <th>num_subscribers</th>\n",
       "      <th>num_reviews</th>\n",
       "      <th>num_lectures</th>\n",
       "      <th>level</th>\n",
       "      <th>content_duration</th>\n",
       "      <th>published_timestamp</th>\n",
       "      <th>subject</th>\n",
       "    </tr>\n",
       "  </thead>\n",
       "  <tbody>\n",
       "    <tr>\n",
       "      <td>0</td>\n",
       "      <td>1070968</td>\n",
       "      <td>Ultimate Investment Banking Course</td>\n",
       "      <td>https://www.udemy.com/ultimate-investment-bank...</td>\n",
       "      <td>1</td>\n",
       "      <td>200</td>\n",
       "      <td>2147</td>\n",
       "      <td>23</td>\n",
       "      <td>51</td>\n",
       "      <td>All Levels</td>\n",
       "      <td>1.5 hours</td>\n",
       "      <td>2017-01-18</td>\n",
       "      <td>Business Finance</td>\n",
       "    </tr>\n",
       "    <tr>\n",
       "      <td>4</td>\n",
       "      <td>1011058</td>\n",
       "      <td>How To Maximize Your Profits Trading Options</td>\n",
       "      <td>https://www.udemy.com/how-to-maximize-your-pro...</td>\n",
       "      <td>1</td>\n",
       "      <td>200</td>\n",
       "      <td>1276</td>\n",
       "      <td>45</td>\n",
       "      <td>26</td>\n",
       "      <td>Intermediate Level</td>\n",
       "      <td>2 hours</td>\n",
       "      <td>2016-12-13</td>\n",
       "      <td>Business Finance</td>\n",
       "    </tr>\n",
       "    <tr>\n",
       "      <td>9</td>\n",
       "      <td>1167710</td>\n",
       "      <td>The Only Investment Strategy You Need For Your...</td>\n",
       "      <td>https://www.udemy.com/the-only-investment-stra...</td>\n",
       "      <td>1</td>\n",
       "      <td>200</td>\n",
       "      <td>827</td>\n",
       "      <td>14</td>\n",
       "      <td>15</td>\n",
       "      <td>All Levels</td>\n",
       "      <td>1 hour</td>\n",
       "      <td>2017-04-18</td>\n",
       "      <td>Business Finance</td>\n",
       "    </tr>\n",
       "    <tr>\n",
       "      <td>10</td>\n",
       "      <td>592338</td>\n",
       "      <td>Forex Trading Secrets of the Pros With Amazon'...</td>\n",
       "      <td>https://www.udemy.com/trading-with-amazons-aws...</td>\n",
       "      <td>1</td>\n",
       "      <td>200</td>\n",
       "      <td>4284</td>\n",
       "      <td>93</td>\n",
       "      <td>76</td>\n",
       "      <td>All Levels</td>\n",
       "      <td>5 hours</td>\n",
       "      <td>2015-09-11</td>\n",
       "      <td>Business Finance</td>\n",
       "    </tr>\n",
       "    <tr>\n",
       "      <td>11</td>\n",
       "      <td>975046</td>\n",
       "      <td>Trading Options With Money Flow</td>\n",
       "      <td>https://www.udemy.com/trading-options-using-mo...</td>\n",
       "      <td>1</td>\n",
       "      <td>200</td>\n",
       "      <td>1380</td>\n",
       "      <td>42</td>\n",
       "      <td>17</td>\n",
       "      <td>All Levels</td>\n",
       "      <td>1 hour</td>\n",
       "      <td>2016-10-18</td>\n",
       "      <td>Business Finance</td>\n",
       "    </tr>\n",
       "    <tr>\n",
       "      <td>...</td>\n",
       "      <td>...</td>\n",
       "      <td>...</td>\n",
       "      <td>...</td>\n",
       "      <td>...</td>\n",
       "      <td>...</td>\n",
       "      <td>...</td>\n",
       "      <td>...</td>\n",
       "      <td>...</td>\n",
       "      <td>...</td>\n",
       "      <td>...</td>\n",
       "      <td>...</td>\n",
       "      <td>...</td>\n",
       "    </tr>\n",
       "    <tr>\n",
       "      <td>3597</td>\n",
       "      <td>976854</td>\n",
       "      <td>Spring 4 Mastercourse: Covers Annotation &amp; XML...</td>\n",
       "      <td>https://www.udemy.com/java-spring-framework/</td>\n",
       "      <td>1</td>\n",
       "      <td>200</td>\n",
       "      <td>1353</td>\n",
       "      <td>53</td>\n",
       "      <td>320</td>\n",
       "      <td>Intermediate Level</td>\n",
       "      <td>23.5 hours</td>\n",
       "      <td>2016-11-01</td>\n",
       "      <td>Web Development</td>\n",
       "    </tr>\n",
       "    <tr>\n",
       "      <td>3625</td>\n",
       "      <td>1227578</td>\n",
       "      <td>Learning Path: The Road to Elasticsearch</td>\n",
       "      <td>https://www.udemy.com/learning-path-the-road-t...</td>\n",
       "      <td>1</td>\n",
       "      <td>200</td>\n",
       "      <td>50</td>\n",
       "      <td>5</td>\n",
       "      <td>60</td>\n",
       "      <td>Beginner Level</td>\n",
       "      <td>5 hours</td>\n",
       "      <td>2017-05-29</td>\n",
       "      <td>Web Development</td>\n",
       "    </tr>\n",
       "    <tr>\n",
       "      <td>3647</td>\n",
       "      <td>709324</td>\n",
       "      <td>Learn Web Development by Creating a Social Net...</td>\n",
       "      <td>https://www.udemy.com/meteor-tutorial/</td>\n",
       "      <td>1</td>\n",
       "      <td>200</td>\n",
       "      <td>442</td>\n",
       "      <td>48</td>\n",
       "      <td>80</td>\n",
       "      <td>Beginner Level</td>\n",
       "      <td>6.5 hours</td>\n",
       "      <td>2015-12-30</td>\n",
       "      <td>Web Development</td>\n",
       "    </tr>\n",
       "    <tr>\n",
       "      <td>3657</td>\n",
       "      <td>919354</td>\n",
       "      <td>Learn Bootstrap 4 The Most Popular HTML5 CSS3 ...</td>\n",
       "      <td>https://www.udemy.com/learn-bootstrap-4-the-mo...</td>\n",
       "      <td>1</td>\n",
       "      <td>200</td>\n",
       "      <td>279</td>\n",
       "      <td>37</td>\n",
       "      <td>119</td>\n",
       "      <td>All Levels</td>\n",
       "      <td>10 hours</td>\n",
       "      <td>2017-04-25</td>\n",
       "      <td>Web Development</td>\n",
       "    </tr>\n",
       "    <tr>\n",
       "      <td>3659</td>\n",
       "      <td>949134</td>\n",
       "      <td>The Extreme Web Development Course - For Begin...</td>\n",
       "      <td>https://www.udemy.com/the-extreme-web-developm...</td>\n",
       "      <td>1</td>\n",
       "      <td>200</td>\n",
       "      <td>1420</td>\n",
       "      <td>62</td>\n",
       "      <td>152</td>\n",
       "      <td>All Levels</td>\n",
       "      <td>5.5 hours</td>\n",
       "      <td>2016-09-04</td>\n",
       "      <td>Web Development</td>\n",
       "    </tr>\n",
       "  </tbody>\n",
       "</table>\n",
       "<p>295 rows × 12 columns</p>\n",
       "</div>"
      ],
      "text/plain": [
       "      course_id                                       course_title  \\\n",
       "0       1070968                 Ultimate Investment Banking Course   \n",
       "4       1011058       How To Maximize Your Profits Trading Options   \n",
       "9       1167710  The Only Investment Strategy You Need For Your...   \n",
       "10       592338  Forex Trading Secrets of the Pros With Amazon'...   \n",
       "11       975046                    Trading Options With Money Flow   \n",
       "...         ...                                                ...   \n",
       "3597     976854  Spring 4 Mastercourse: Covers Annotation & XML...   \n",
       "3625    1227578           Learning Path: The Road to Elasticsearch   \n",
       "3647     709324  Learn Web Development by Creating a Social Net...   \n",
       "3657     919354  Learn Bootstrap 4 The Most Popular HTML5 CSS3 ...   \n",
       "3659     949134  The Extreme Web Development Course - For Begin...   \n",
       "\n",
       "                                                    url  is_paid  price  \\\n",
       "0     https://www.udemy.com/ultimate-investment-bank...        1    200   \n",
       "4     https://www.udemy.com/how-to-maximize-your-pro...        1    200   \n",
       "9     https://www.udemy.com/the-only-investment-stra...        1    200   \n",
       "10    https://www.udemy.com/trading-with-amazons-aws...        1    200   \n",
       "11    https://www.udemy.com/trading-options-using-mo...        1    200   \n",
       "...                                                 ...      ...    ...   \n",
       "3597       https://www.udemy.com/java-spring-framework/        1    200   \n",
       "3625  https://www.udemy.com/learning-path-the-road-t...        1    200   \n",
       "3647             https://www.udemy.com/meteor-tutorial/        1    200   \n",
       "3657  https://www.udemy.com/learn-bootstrap-4-the-mo...        1    200   \n",
       "3659  https://www.udemy.com/the-extreme-web-developm...        1    200   \n",
       "\n",
       "      num_subscribers  num_reviews num_lectures               level  \\\n",
       "0                2147           23           51          All Levels   \n",
       "4                1276           45           26  Intermediate Level   \n",
       "9                 827           14           15          All Levels   \n",
       "10               4284           93           76          All Levels   \n",
       "11               1380           42           17          All Levels   \n",
       "...               ...          ...          ...                 ...   \n",
       "3597             1353           53          320  Intermediate Level   \n",
       "3625               50            5           60      Beginner Level   \n",
       "3647              442           48           80      Beginner Level   \n",
       "3657              279           37          119          All Levels   \n",
       "3659             1420           62          152          All Levels   \n",
       "\n",
       "     content_duration published_timestamp           subject  \n",
       "0           1.5 hours          2017-01-18  Business Finance  \n",
       "4             2 hours          2016-12-13  Business Finance  \n",
       "9              1 hour          2017-04-18  Business Finance  \n",
       "10            5 hours          2015-09-11  Business Finance  \n",
       "11             1 hour          2016-10-18  Business Finance  \n",
       "...               ...                 ...               ...  \n",
       "3597       23.5 hours          2016-11-01   Web Development  \n",
       "3625          5 hours          2017-05-29   Web Development  \n",
       "3647        6.5 hours          2015-12-30   Web Development  \n",
       "3657         10 hours          2017-04-25   Web Development  \n",
       "3659        5.5 hours          2016-09-04   Web Development  \n",
       "\n",
       "[295 rows x 12 columns]"
      ]
     },
     "execution_count": 115,
     "metadata": {},
     "output_type": "execute_result"
    }
   ],
   "source": [
    "df[df['price']==df['price'].max()]"
   ]
  },
  {
   "cell_type": "markdown",
   "metadata": {},
   "source": [
    "Course with the highest number of subscribers:"
   ]
  },
  {
   "cell_type": "code",
   "execution_count": 119,
   "metadata": {},
   "outputs": [
    {
     "data": {
      "text/html": [
       "<div>\n",
       "<style scoped>\n",
       "    .dataframe tbody tr th:only-of-type {\n",
       "        vertical-align: middle;\n",
       "    }\n",
       "\n",
       "    .dataframe tbody tr th {\n",
       "        vertical-align: top;\n",
       "    }\n",
       "\n",
       "    .dataframe thead th {\n",
       "        text-align: right;\n",
       "    }\n",
       "</style>\n",
       "<table border=\"1\" class=\"dataframe\">\n",
       "  <thead>\n",
       "    <tr style=\"text-align: right;\">\n",
       "      <th></th>\n",
       "      <th>course_id</th>\n",
       "      <th>course_title</th>\n",
       "      <th>url</th>\n",
       "      <th>is_paid</th>\n",
       "      <th>price</th>\n",
       "      <th>num_subscribers</th>\n",
       "      <th>num_reviews</th>\n",
       "      <th>num_lectures</th>\n",
       "      <th>level</th>\n",
       "      <th>content_duration</th>\n",
       "      <th>published_timestamp</th>\n",
       "      <th>subject</th>\n",
       "    </tr>\n",
       "  </thead>\n",
       "  <tbody>\n",
       "    <tr>\n",
       "      <td>2832</td>\n",
       "      <td>41295</td>\n",
       "      <td>Learn HTML5 Programming From Scratch</td>\n",
       "      <td>https://www.udemy.com/learn-html5-programming-...</td>\n",
       "      <td>0</td>\n",
       "      <td>0</td>\n",
       "      <td>268923</td>\n",
       "      <td>8629</td>\n",
       "      <td>45</td>\n",
       "      <td>All Levels</td>\n",
       "      <td>10.5 hours</td>\n",
       "      <td>2013-02-14</td>\n",
       "      <td>Web Development</td>\n",
       "    </tr>\n",
       "  </tbody>\n",
       "</table>\n",
       "</div>"
      ],
      "text/plain": [
       "      course_id                          course_title  \\\n",
       "2832      41295  Learn HTML5 Programming From Scratch   \n",
       "\n",
       "                                                    url  is_paid  price  \\\n",
       "2832  https://www.udemy.com/learn-html5-programming-...        0      0   \n",
       "\n",
       "      num_subscribers  num_reviews num_lectures       level content_duration  \\\n",
       "2832           268923         8629           45  All Levels       10.5 hours   \n",
       "\n",
       "     published_timestamp          subject  \n",
       "2832          2013-02-14  Web Development  "
      ]
     },
     "execution_count": 119,
     "metadata": {},
     "output_type": "execute_result"
    }
   ],
   "source": [
    "df[df['num_subscribers']==df['num_subscribers'].max()]"
   ]
  },
  {
   "cell_type": "markdown",
   "metadata": {},
   "source": [
    "Pie chart of level of courses:"
   ]
  },
  {
   "cell_type": "code",
   "execution_count": 122,
   "metadata": {},
   "outputs": [
    {
     "data": {
      "text/plain": [
       "All Levels            1932\n",
       "Beginner Level        1272\n",
       "Intermediate Level     421\n",
       "Expert Level            58\n",
       "Name: level, dtype: int64"
      ]
     },
     "execution_count": 122,
     "metadata": {},
     "output_type": "execute_result"
    }
   ],
   "source": [
    "df['level'].value_counts()"
   ]
  },
  {
   "cell_type": "code",
   "execution_count": 129,
   "metadata": {},
   "outputs": [
    {
     "data": {
      "image/png": "[encoded data removed]",
      "text/plain": [
       "<Figure size 432x288 with 1 Axes>"
      ]
     },
     "metadata": {},
     "output_type": "display_data"
    }
   ],
   "source": [
    "df['level'].value_counts().plot(kind='pie', autopct='%1.2f%%')\n",
    "plt.title(\"Level of courses\")\n",
    "plt.show()"
   ]
  },
  {
   "cell_type": "markdown",
   "metadata": {},
   "source": [
    "Pie chart of Subjects of courses:"
   ]
  },
  {
   "cell_type": "code",
   "execution_count": 144,
   "metadata": {},
   "outputs": [
    {
     "data": {
      "text/plain": [
       "Web Development        1200\n",
       "Business Finance       1199\n",
       "Musical Instruments     681\n",
       "Graphic Design          603\n",
       "Name: subject, dtype: int64"
      ]
     },
     "execution_count": 144,
     "metadata": {},
     "output_type": "execute_result"
    }
   ],
   "source": [
    "df['subject'].value_counts()"
   ]
  },
  {
   "cell_type": "code",
   "execution_count": 147,
   "metadata": {},
   "outputs": [
    {
     "data": {
      "image/png": "[encoded data removed]",
      "text/plain": [
       "<Figure size 432x288 with 1 Axes>"
      ]
     },
     "metadata": {},
     "output_type": "display_data"
    }
   ],
   "source": [
    "df['subject'].value_counts().plot(kind=\"pie\", autopct='%1.2f%%')\n",
    "plt.title(\"Subjects of courses\")\n",
    "plt.show()"
   ]
  },
  {
   "cell_type": "markdown",
   "metadata": {},
   "source": [
    "By looking at the above pie chart, it can be said that the \"Web Development\" and \"Business Finance\" are the subjects with the most number of courses."
   ]
  },
  {
   "cell_type": "code",
   "execution_count": 148,
   "metadata": {},
   "outputs": [
    {
     "data": {
      "text/plain": [
       "is_paid  subject            \n",
       "0        Web Development         133\n",
       "         Business Finance         96\n",
       "         Musical Instruments      46\n",
       "         Graphic Design           35\n",
       "1        Business Finance       1103\n",
       "         Web Development        1067\n",
       "         Musical Instruments     635\n",
       "         Graphic Design          568\n",
       "Name: subject, dtype: int64"
      ]
     },
     "execution_count": 148,
     "metadata": {},
     "output_type": "execute_result"
    }
   ],
   "source": [
    "df.groupby([\"is_paid\"])['subject'].value_counts()"
   ]
  },
  {
   "cell_type": "code",
   "execution_count": 161,
   "metadata": {},
   "outputs": [
    {
     "data": {
      "text/plain": [
       "<Figure size 7200x5760 with 0 Axes>"
      ]
     },
     "metadata": {},
     "output_type": "display_data"
    },
    {
     "data": {
      "image/png": "[encoded data removed]",
      "text/plain": [
       "<Figure size 432x288 with 1 Axes>"
      ]
     },
     "metadata": {
      "needs_background": "light"
     },
     "output_type": "display_data"
    }
   ],
   "source": [
    "plt.figure(figsize=(100,80))\n",
    "df.groupby([\"is_paid\"])['subject'].value_counts().unstack().plot(kind='bar')\n",
    "plt.grid()\n",
    "plt.title(\"Paid v/s Free Course Subjects\")\n",
    "plt.xlabel(\"Free v/s Paid\") \n",
    "plt.ylabel(\"Number of Courses\")\n",
    "plt.show()"
   ]
  },
  {
   "cell_type": "markdown",
   "metadata": {},
   "source": [
    "Below is the paid course on subject \"Business Finance\" with the highest number of subscribers:"
   ]
  },
  {
   "cell_type": "code",
   "execution_count": 181,
   "metadata": {},
   "outputs": [
    {
     "data": {
      "text/plain": [
       "494"
      ]
     },
     "execution_count": 181,
     "metadata": {},
     "output_type": "execute_result"
    }
   ],
   "source": [
    "df[(df['is_paid']==1) & (df['subject']==\"Business Finance\")]['num_subscribers'].idxmax()"
   ]
  },
  {
   "cell_type": "code",
   "execution_count": 187,
   "metadata": {},
   "outputs": [
    {
     "data": {
      "text/plain": [
       "course_id                                                          49798\n",
       "course_title           Bitcoin or How I Learned to Stop Worrying and ...\n",
       "url                    https://www.udemy.com/bitcoin-or-how-i-learned...\n",
       "is_paid                                                                1\n",
       "price                                                                  0\n",
       "num_subscribers                                                    65576\n",
       "num_reviews                                                          936\n",
       "num_lectures                                                          24\n",
       "level                                                         All Levels\n",
       "content_duration                                                 8 hours\n",
       "published_timestamp                                           2013-04-20\n",
       "subject                                                 Business Finance\n",
       "Name: 494, dtype: object"
      ]
     },
     "execution_count": 187,
     "metadata": {},
     "output_type": "execute_result"
    }
   ],
   "source": [
    "df.iloc[df[(df['is_paid']==1) & (df['subject']==\"Business Finance\")]['num_subscribers'].idxmax()]"
   ]
  },
  {
   "cell_type": "markdown",
   "metadata": {},
   "source": [
    "Below is the paid course on subject \"Web Development\" with the highest number of subscribers:"
   ]
  },
  {
   "cell_type": "code",
   "execution_count": 183,
   "metadata": {},
   "outputs": [
    {
     "data": {
      "text/plain": [
       "2832"
      ]
     },
     "execution_count": 183,
     "metadata": {},
     "output_type": "execute_result"
    }
   ],
   "source": [
    "df[(df['is_paid']==1) & (df['subject']==\"Web Development\")]['num_subscribers'].idxmax()"
   ]
  },
  {
   "cell_type": "code",
   "execution_count": 188,
   "metadata": {},
   "outputs": [
    {
     "data": {
      "text/plain": [
       "course_id                                                          41295\n",
       "course_title                        Learn HTML5 Programming From Scratch\n",
       "url                    https://www.udemy.com/learn-html5-programming-...\n",
       "is_paid                                                                1\n",
       "price                                                                  0\n",
       "num_subscribers                                                   268923\n",
       "num_reviews                                                         8629\n",
       "num_lectures                                                          45\n",
       "level                                                         All Levels\n",
       "content_duration                                              10.5 hours\n",
       "published_timestamp                                           2013-02-14\n",
       "subject                                                  Web Development\n",
       "Name: 2832, dtype: object"
      ]
     },
     "execution_count": 188,
     "metadata": {},
     "output_type": "execute_result"
    }
   ],
   "source": [
    "df.iloc[df[(df['is_paid']==1) & (df['subject']==\"Web Development\")]['num_subscribers'].idxmax()]"
   ]
  },
  {
   "cell_type": "code",
   "execution_count": null,
   "metadata": {},
   "outputs": [],
   "source": []
  }
 ],
 "metadata": {
  "kernelspec": {
   "display_name": "Python 3",
   "language": "python",
   "name": "python3"
  },
  "language_info": {
   "codemirror_mode": {
    "name": "ipython",
    "version": 3
   },
   "file_extension": ".py",
   "mimetype": "text/x-python",
   "name": "python",
   "nbconvert_exporter": "python",
   "pygments_lexer": "ipython3",
   "version": "3.7.4"
  }
 },
 "nbformat": 4,
 "nbformat_minor": 2
}
